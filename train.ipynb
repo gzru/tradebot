{
 "cells": [
  {
   "cell_type": "code",
   "execution_count": 7,
   "id": "f65c26c5",
   "metadata": {},
   "outputs": [],
   "source": [
    "import torch\n",
    "import torch.nn.functional\n",
    "import fastai.tabular.data # type: ignore\n",
    "import fastai.tabular.learner # type: ignore\n",
    "import fastai.callback.schedule # type: ignore\n",
    "import structs.candle_traits"
   ]
  },
  {
   "cell_type": "code",
   "execution_count": 10,
   "id": "923cf69e",
   "metadata": {},
   "outputs": [],
   "source": [
    "class Args:\n",
    "    pass\n",
    "\n",
    "args = Args()\n",
    "args.trainset=\"data/JOINT.5m.trainset.100.csv\"\n",
    "args.output=\"data/JOINT.5m.minmax.100.model\"\n",
    "args.predict_field=\"c\"\n",
    "args.train_batch=100\n",
    "args.train_cycles=30\n",
    "\n",
    "traits = structs.candle_traits.CandleTraits.from_csv(\"c\")\n",
    "field_names = traits.make_batch_fields(args.train_batch)\n",
    "loss_func=torch.nn.functional.mse_loss"
   ]
  },
  {
   "cell_type": "code",
   "execution_count": 3,
   "id": "c11a34a5",
   "metadata": {},
   "outputs": [],
   "source": [
    "loader = fastai.tabular.data.TabularDataLoaders.from_csv(args.trainset,\n",
    "                                     path=\"\",\n",
    "                                     y_names=args.predict_field,\n",
    "                                     cont_names=field_names,\n",
    "                                     proc=[])"
   ]
  },
  {
   "cell_type": "code",
   "execution_count": 4,
   "id": "f99737c5",
   "metadata": {},
   "outputs": [
    {
     "name": "stdout",
     "output_type": "stream",
     "text": [
      "tensor(0.0071)\n",
      "tensor(0.0069)\n"
     ]
    }
   ],
   "source": [
    "# Calculate_base_line:\n",
    "base_line_train = loss_func(torch.tensor(loader.train.items[\"c0\"].values),\n",
    "                            torch.tensor(loader.train.items[\"c\"].values))\n",
    "print(base_line_train)\n",
    "base_line_valid = loss_func(torch.tensor(loader.valid.items[\"c0\"].values),\n",
    "                            torch.tensor(loader.valid.items[\"c\"].values))\n",
    "print(base_line_valid)"
   ]
  },
  {
   "cell_type": "code",
   "execution_count": 5,
   "id": "484bb0e4",
   "metadata": {},
   "outputs": [],
   "source": [
    "learner = fastai.tabular.learner.tabular_learner(loader, n_out=1, loss_func=loss_func, layers=[200, 100])"
   ]
  },
  {
   "cell_type": "code",
   "execution_count": 8,
   "id": "c5773ca5",
   "metadata": {},
   "outputs": [
    {
     "name": "stderr",
     "output_type": "stream",
     "text": [
      "/home/gz/.local/lib/python3.8/site-packages/fastai/callback/schedule.py:270: UserWarning: color is redundantly defined by the 'color' keyword argument and the fmt string \"ro\" (-> color='r'). The keyword argument will take precedence.\n",
      "  ax.plot(val, idx, 'ro', label=nm, c=color)\n"
     ]
    },
    {
     "data": {
      "text/plain": [
       "SuggestedLRs(valley=0.017782794311642647)"
      ]
     },
     "execution_count": 8,
     "metadata": {},
     "output_type": "execute_result"
    },
    {
     "data": {
      "image/png": "[encoded data removed]",
      "text/plain": [
       "<Figure size 432x288 with 1 Axes>"
      ]
     },
     "metadata": {
      "needs_background": "light"
     },
     "output_type": "display_data"
    }
   ],
   "source": [
    "learner.lr_find(start_lr = 1e-05,end_lr = 1e+05, num_it = 1000)"
   ]
  },
  {
   "cell_type": "code",
   "execution_count": 9,
   "id": "24651b30",
   "metadata": {},
   "outputs": [
    {
     "name": "stdout",
     "output_type": "stream",
     "text": [
      "[0, 0.10994038730859756, 0.10500556230545044, '01:43']\n",
      "[1, 0.01557190716266632, 0.011658798903226852, '01:48']\n",
      "[2, 0.010991625487804413, 0.008564596064388752, '10:24']\n",
      "[3, 0.009981299750506878, 0.007985987700521946, '01:51']\n",
      "[4, 0.009607935324311256, 0.0075679197907447815, '01:34']\n",
      "[5, 0.009105978533625603, 0.007474471814930439, '01:30']\n",
      "[6, 0.009579685516655445, 0.007861722260713577, '01:27']\n",
      "[7, 0.008950619027018547, 0.007318039424717426, '01:27']\n",
      "[8, 0.010038543492555618, 0.008103382773697376, '01:39']\n",
      "[9, 0.00857087317854166, 0.007178819738328457, '01:45']\n",
      "[10, 0.00870295986533165, 0.007430457975715399, '01:42']\n",
      "[11, 0.008807336911559105, 0.00710716750472784, '01:36']\n",
      "[12, 0.008171802386641502, 0.007221776992082596, '01:45']\n",
      "[13, 0.009113207459449768, 0.007235587574541569, '01:49']\n",
      "[14, 0.009328345768153667, 0.00709118228405714, '01:47']\n",
      "[15, 0.009208752773702145, 0.0071479822508990765, '01:50']\n",
      "[16, 0.00868383888155222, 0.007235696539282799, '01:50']\n",
      "[17, 0.008888600394129753, 0.007078260648995638, '01:40']\n",
      "[18, 0.008460103534162045, 0.00702741090208292, '01:32']\n",
      "[19, 0.008023977279663086, 0.007025924511253834, '01:30']\n",
      "[20, 0.009333470836281776, 0.006948920898139477, '01:33']\n",
      "[21, 0.010739367455244064, 0.0069826277904212475, '01:30']\n",
      "[22, 0.008366042748093605, 0.0070214723236858845, '01:30']\n",
      "[23, 0.008811010979115963, 0.007153801620006561, '3:32:17']\n",
      "[24, 0.008012183010578156, 0.007087365258485079, '57:51']\n",
      "[25, 0.008411513641476631, 0.00712519371882081, '32:32']\n",
      "[26, 0.008579040877521038, 0.0070693413726985455, '16:46']\n",
      "[27, 0.00872670579701662, 0.007103273179382086, '33:38']\n",
      "[28, 0.008703350089490414, 0.007153355050832033, '32:49']\n",
      "[29, 0.008911552838981152, 0.007045648526400328, '49:21']\n"
     ]
    }
   ],
   "source": [
    "learner.fit_one_cycle(args.train_cycles, 0.0001)"
   ]
  },
  {
   "cell_type": "code",
   "execution_count": 11,
   "id": "f55b3967",
   "metadata": {},
   "outputs": [],
   "source": [
    "learner.export(args.output)"
   ]
  },
  {
   "cell_type": "code",
   "execution_count": null,
   "id": "751f0e22",
   "metadata": {},
   "outputs": [],
   "source": []
  }
 ],
 "metadata": {
  "kernelspec": {
   "display_name": "Python 3 (ipykernel)",
   "language": "python",
   "name": "python3"
  },
  "language_info": {
   "codemirror_mode": {
    "name": "ipython",
    "version": 3
   },
   "file_extension": ".py",
   "mimetype": "text/x-python",
   "name": "python",
   "nbconvert_exporter": "python",
   "pygments_lexer": "ipython3",
   "version": "3.8.10"
  }
 },
 "nbformat": 4,
 "nbformat_minor": 5
}
